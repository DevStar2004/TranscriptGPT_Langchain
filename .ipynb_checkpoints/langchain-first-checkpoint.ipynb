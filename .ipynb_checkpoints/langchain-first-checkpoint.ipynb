{
 "cells": [
  {
   "cell_type": "markdown",
   "id": "f51d29f7-a1ab-4de2-8f68-0274dada3c3c",
   "metadata": {},
   "source": [
    "# load llm"
   ]
  },
  {
   "cell_type": "code",
   "execution_count": 1,
   "id": "4695fe71-7b92-4bb7-8720-08a4875e531b",
   "metadata": {},
   "outputs": [],
   "source": [
    "# export OPENAI_API_KEY=\"...\"  # set the key in the terminal, before launching jupyter notebook\n",
    "\n",
    "\n",
    "from langchain_openai import ChatOpenAI\n",
    "\n",
    "llm_model = ChatOpenAI(model=\"gpt-3.5-turbo\",\n",
    "                temperature=0.1,\n",
    "                base_url=\"https://openai.api2d.net\")"
   ]
  },
  {
   "cell_type": "markdown",
   "id": "177c249d-fc28-4b4b-bfb2-d628d7ced2dd",
   "metadata": {},
   "source": [
    "# prompt template"
   ]
  },
  {
   "cell_type": "code",
   "execution_count": 2,
   "id": "63caabae-447c-4b23-86a2-e870313c0cc0",
   "metadata": {},
   "outputs": [],
   "source": [
    "from langchain_core.prompts import ChatPromptTemplate, MessagesPlaceholder\n",
    "\n",
    "\n",
    "context_translation_template = \"\"\"\n",
    "native_subtitle = (\n",
    "{chinese_caption}\n",
    ")\n",
    "\n",
    "foreign_subtitle = (\n",
    "{english_caption}\n",
    ")\n",
    "\n",
    "----\n",
    "\n",
    "native_subtitle is a subtitle translated from the foreign language subtitle, foreign_titles. \n",
    "\n",
    "Please find the time code of each occurrence of the following word in foreign_subtitle and the corresponding translation of the following word \n",
    "(not the entire sentence) that appears in the context of native_subtitle:\n",
    "\n",
    "{word}\n",
    "\n",
    "\"\"\"\n",
    "\n",
    "prompt = ChatPromptTemplate.from_messages(\n",
    "    [\n",
    "        (\n",
    "            \"system\", context_translation_template, \n",
    "        ),\n",
    "    ]\n",
    ")\n",
    "\n"
   ]
  },
  {
   "cell_type": "markdown",
   "id": "d92df33c-029a-4481-ba86-4ae9c0f04a91",
   "metadata": {},
   "source": [
    "# load context"
   ]
  },
  {
   "cell_type": "code",
   "execution_count": 3,
   "id": "b46aa612-b284-4b58-b1e1-ab2f7da79482",
   "metadata": {},
   "outputs": [],
   "source": [
    "file = open(\"./chinese.txt\", \"r\")\n",
    "chinese_caption = file.read()\n",
    "file.close()\n",
    "\n",
    "file = open(\"./english.txt\", \"r\")\n",
    "english_caption = file.read()\n",
    "file.close()\n"
   ]
  },
  {
   "cell_type": "markdown",
   "id": "f70cad8a-7a25-418c-bad3-fea5771a94b3",
   "metadata": {},
   "source": [
    "# tool calling (json output)"
   ]
  },
  {
   "cell_type": "code",
   "execution_count": 4,
   "id": "bcfbd025-0638-46ff-b88e-448199289403",
   "metadata": {},
   "outputs": [],
   "source": [
    "from langchain_core.pydantic_v1 import BaseModel, Field\n",
    "\n",
    "class ContextTranslation(BaseModel):\n",
    "    \"\"\"Get the current weather in a given location\"\"\"\n",
    "\n",
    "    timecode: str = Field(..., description=\"the time code of the word that appears in foreign_subtitles\")\n",
    "    foreign: str = Field(..., description=\"the word in the foreign language\")\n",
    "    name: str = Field(..., description=\"the word in the native language\")\n",
    "\n",
    "\n",
    "llm_with_tools = llm_model.bind_tools([ContextTranslation])"
   ]
  },
  {
   "cell_type": "markdown",
   "id": "4da8ffd8-528b-454d-a423-b5a1b758662c",
   "metadata": {},
   "source": [
    "# llm chain"
   ]
  },
  {
   "cell_type": "code",
   "execution_count": null,
   "id": "86564686-c1b5-44ea-a398-7eb293917f91",
   "metadata": {},
   "outputs": [],
   "source": [
    "chain = prompt | llm_with_tools\n",
    "\n",
    "chain.invoke(\n",
    "    {\n",
    "        \"chinese_caption\" : chinese_caption,\n",
    "        \"english_caption\" : english_caption, \n",
    "        \"word\" : \"impression\"\n",
    "    }\n",
    ")"
   ]
  },
  {
   "cell_type": "code",
   "execution_count": null,
   "id": "bede03f7-db69-449e-adb4-d6464d517641",
   "metadata": {},
   "outputs": [],
   "source": []
  }
 ],
 "metadata": {
  "kernelspec": {
   "display_name": "Python 3 (ipykernel)",
   "language": "python",
   "name": "python3"
  },
  "language_info": {
   "codemirror_mode": {
    "name": "ipython",
    "version": 3
   },
   "file_extension": ".py",
   "mimetype": "text/x-python",
   "name": "python",
   "nbconvert_exporter": "python",
   "pygments_lexer": "ipython3",
   "version": "3.10.14"
  }
 },
 "nbformat": 4,
 "nbformat_minor": 5
}
